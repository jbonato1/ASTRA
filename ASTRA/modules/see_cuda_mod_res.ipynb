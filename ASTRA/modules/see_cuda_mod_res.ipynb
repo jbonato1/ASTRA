{
 "cells": [
  {
   "cell_type": "code",
   "execution_count": 3,
   "metadata": {},
   "outputs": [],
   "source": [
    "import numpy as np\n",
    "from skimage import io\n",
    "import matplotlib.pyplot as plt\n",
    "import cv2\n",
    "from joblib import Parallel, delayed\n",
    "from skimage.restoration import denoise_nl_means,estimate_sigma\n",
    "from scipy import signal\n",
    "from joblib import Parallel, delayed\n",
    "import os\n",
    "import h5py\n",
    "from numba import cuda,float32,uint16,float64  \n",
    "import time\n",
    "import pickle\n",
    "#from sel_active_reg_gen import sel_active_reg\n",
    "\n",
    "\n",
    "\n",
    "\n"
   ]
  },
  {
   "cell_type": "code",
   "execution_count": 3,
   "metadata": {},
   "outputs": [],
   "source": [
    "import numpy as np\n",
    "from skimage import io\n",
    "import matplotlib.pyplot as plt\n",
    "import cv2\n",
    "from joblib import Parallel, delayed\n",
    "from skimage.restoration import denoise_nl_means,estimate_sigma\n",
    "from scipy import signal\n",
    "from joblib import Parallel, delayed\n",
    "import os\n",
    "import h5py\n",
    "from numba import cuda,float32,uint16,float64,int64,int32\n",
    "import time\n",
    "from math import floor\n",
    "\n",
    "import torch\n",
    "\n",
    "\n",
    "@cuda.jit\n",
    "def sel_active_gpu_gen(bz,time_ref,per_mat,stack,im_out,cover,BPM_ratio,stp,iter_block,last_stp,debug=False):\n",
    "    \n",
    "   \n",
    "    size = cuda.gridDim.x\n",
    "    iterat = int32(iter_block//(size//BPM_ratio))\n",
    "    if iter_block%(size//BPM_ratio)>0:\n",
    "        iterat+=1\n",
    "        \n",
    "    b_dimx = cuda.blockDim.x\n",
    "    b_dimy = cuda.blockDim.y\n",
    "    stp_iter = stp*(size//BPM_ratio)\n",
    "    \n",
    "    bx = cuda.blockIdx.x \n",
    "    by = cuda.blockIdx.y\n",
    "            \n",
    "    tx = cuda.threadIdx.x\n",
    "    ty = cuda.threadIdx.y\n",
    "    \n",
    "    if bx*b_dimx+bx+tx == 0 and by*b_dimx+by+ty==0 and debug==True:\n",
    "        #from pdb import set_trace; set_trace()\n",
    "        print('check',size//BPM_ratio)\n",
    "        print(iterat)\n",
    "        \n",
    "\n",
    "    \n",
    "    for it in range(int32(iterat*iterat)):\n",
    "        it_bk =int32(it//iterat)\n",
    "        it_bk_y = int32(it%iterat)\n",
    "        if it_bk*stp_iter+((bx//BPM_ratio)*stp)<=last_stp and it_bk_y*stp_iter+((by//BPM_ratio)*stp)<=last_stp:\n",
    "                \n",
    "            if stack[bz,it_bk*stp_iter+(bx//BPM_ratio)*stp+(bx%BPM_ratio)*b_dimx+tx,it_bk_y*stp_iter+(by//BPM_ratio)*stp+(by%BPM_ratio)*b_dimy+ty] >= per_mat[bz+time_ref,it_bk*(size//BPM_ratio)+bx//BPM_ratio,it_bk_y*(size//BPM_ratio)+by//BPM_ratio]:\n",
    "                cuda.atomic.add(im_out,(it_bk*stp_iter+(bx//BPM_ratio)*stp+(bx%BPM_ratio)*b_dimx+tx,it_bk_y*stp_iter+(by//BPM_ratio)*stp+(by%BPM_ratio)*b_dimy+ty),1)\n",
    "\n",
    "            if bz ==0 and time_ref==0:\n",
    "                cuda.atomic.add(cover,(it_bk*stp_iter+(bx//BPM_ratio)*stp+(bx%BPM_ratio)*b_dimx+tx,it_bk_y*stp_iter+(by//BPM_ratio)*stp+(by%BPM_ratio)*b_dimy+ty),1)\n",
    "    \n",
    "    \n",
    "class sel_active_reg():\n",
    "    \n",
    "    def __init__(self,stack,dict_params,verbose=True,static=False):\n",
    "        self.stack = stack\n",
    "        self.step_list = dict_params['list']\n",
    "        if len(self.step_list)==1:\n",
    "            self.stp=1\n",
    "        else:\n",
    "            self.stp = self.step_list[1]-self.step_list[0]\n",
    "        self.blocks = dict_params['blocks']\n",
    "        self.threads = dict_params['threads']\n",
    "        self.BPM_ratio = dict_params['BPM_ratio'] # # of block inside a patch\n",
    "        self.bb = dict_params['bb']\n",
    "\n",
    "        self.N_pix_st = dict_params['N_pix_st']\n",
    "        self.astr_min = dict_params['astr_min']\n",
    "        self.per_tile = dict_params['percentile']\n",
    "        self.astro_num = dict_params['astro_num']\n",
    "        self.init_th_ = dict_params['init_th_']\n",
    "        self.decr_dim = dict_params['decr_dim']\n",
    "        self.decr_th = dict_params['decr_th']\n",
    "        self.corr_int = dict_params['corr_int']\n",
    "        self.gpu_flag = dict_params['gpu_flag']\n",
    "        self.jobs = -1\n",
    "        self.static = static\n",
    "        self.verbose = verbose\n",
    "        self.iter_block = len(dict_params['list'])\n",
    "        self.gpu_num = 0\n",
    "    \n",
    "    def check_sel_active_reg_gpu_gen(self,void_out=True,debug=True):\n",
    "\n",
    "        _,N,M = self.stack.shape\n",
    "        T=1\n",
    "        cuda.select_device(self.gpu_num)    \n",
    "\n",
    "        threadsperblock = (self.threads,self.threads)\n",
    "        blockspergrid = (self.blocks,self.blocks)\n",
    "             \n",
    "        ### allocate percentile matrix\n",
    "        \n",
    "        if self.verbose: print('GPU started with ',blockspergrid,' blocks and ', threadsperblock,' threads per block')\n",
    "        if self.verbose: print('Iteration per block: ',int(self.iter_block/(self.blocks//self.BPM_ratio)))\n",
    "        \n",
    "        mat_per = np.zeros((1,len(self.step_list),len(self.step_list)),dtype=np.int32)\n",
    "        mat_per_g = cuda.to_device(mat_per) \n",
    "        ### allocate in ram\n",
    "        im_out = np.zeros((N,M),dtype=np.int32)\n",
    "        cover = np.zeros((N,M),dtype=np.int32)\n",
    "        ### allocate and load in DRAM\n",
    "        im_out_g = cuda.to_device(im_out)\n",
    "        cover_g = cuda.to_device(cover)\n",
    "\n",
    "        blocks_to_load =[i*1000 for i in range((T//1000)+1)]\n",
    "        blocks_to_load.append(T)\n",
    "       \n",
    "        for stps in range(len(blocks_to_load)-1):\n",
    "            stack_gpu = cuda.to_device(self.stack[blocks_to_load[stps]:blocks_to_load[stps+1],:,:])\n",
    "            \n",
    "            for bz in range(blocks_to_load[stps+1]-blocks_to_load[stps]):\n",
    "                print('debug',debug)\n",
    "                sel_active_gpu_gen[blockspergrid, threadsperblock](bz,blocks_to_load[stps],mat_per_g,stack_gpu,im_out_g,cover_g,self.BPM_ratio,self.stp,self.iter_block,self.step_list[-1],debug)#\n",
    "                \n",
    "            ### free from old stack\n",
    "            del stack_gpu\n",
    "        \n",
    "        print('OUT shape',cover_g.shape)\n",
    "        im_out = im_out_g.copy_to_host()\n",
    "        cover = cover_g.copy_to_host()\n",
    "#         assert cover.min()!=0, 'Check steps positions and BB'\n",
    "#         assert (im_out/cover).max()==1,'Check steps positions,BB and input stack, MAX val too much high'\n",
    "        if void_out:\n",
    "            pass\n",
    "        else:\n",
    "            return im_out,cover\n",
    "    \n",
    "# with open('/media/DATA/jbonato/astro_segm/set7/.tmp/dict_dataset1.txt', \"rb\") as fp:   \n",
    "#     dict_param = pickle.load(fp)\n",
    "\n",
    "# dict_param['list'] = [i*40 for i in range(12)]\n",
    "# dict_param\n",
    "\n",
    "dict_param = {\n",
    "    'list':[i*33 for i in range(45)],\n",
    "    'blocks':17*2,\n",
    "    'threads':24,\n",
    "    'BPM_ratio':2,\n",
    "    'bb':48,\n",
    "    'N_pix_st':50, #starting minimum area\n",
    "    'astr_min':100,#100\n",
    "    'percentile': 80,#80\n",
    "    'pad':0,\n",
    "    'astro_num':150, # number of astro min in FOV ####150 but for 1170 is 100 # 300 for fov 0020 5\n",
    "    'init_th_':0.5, #.3 for 1170 ,.5 threshold initialization approx. 125\n",
    "    'decr_dim':5, # astro area decrease\n",
    "    'decr_th':25, # temporal threshold decrease\n",
    "    'corr_int':True, # intensity correction flag\n",
    "    'gpu_flag':True\n",
    "}\n",
    "\n",
    "dict_param['percentile']=80\n",
    "dict_param['max_min'] = np.asarray([345,89])\n",
    "max_min = dict_param['max_min']\n",
    "\n",
    "dict_param['th1_p']=0.20\n",
    "dict_param['th2_p']=0.08\n",
    "\n"
   ]
  },
  {
   "cell_type": "code",
   "execution_count": 4,
   "metadata": {},
   "outputs": [
    {
     "name": "stdout",
     "output_type": "stream",
     "text": [
      "GPU started with  (34, 34)  blocks and  (24, 24)  threads per block\n",
      "Iteration per block:  2\n",
      "debug True\n",
      "OUT shape (1500, 1500)\n"
     ]
    },
    {
     "data": {
      "text/plain": [
       "<matplotlib.image.AxesImage at 0x7fe5820c0630>"
      ]
     },
     "execution_count": 4,
     "metadata": {},
     "output_type": "execute_result"
    },
    {
     "data": {
      "image/png": "[encoded data removed]",
      "text/plain": [
       "<Figure size 720x720 with 1 Axes>"
      ]
     },
     "metadata": {
      "needs_background": "light"
     },
     "output_type": "display_data"
    }
   ],
   "source": [
    "stack = np.zeros((10,1500,1500))\n",
    "\n",
    "a_reg = sel_active_reg(stack.astype(np.float32),dict_param)\n",
    "\n",
    "A,B = a_reg.check_sel_active_reg_gpu_gen(void_out=False,debug=True)\n",
    "\n",
    "plt.figure(figsize=(10,10))\n",
    "plt.imshow(B)\n",
    "# plt.savefig('testS.png')"
   ]
  },
  {
   "cell_type": "code",
   "execution_count": 5,
   "metadata": {},
   "outputs": [
    {
     "data": {
      "text/plain": [
       "1"
      ]
     },
     "execution_count": 5,
     "metadata": {},
     "output_type": "execute_result"
    }
   ],
   "source": [
    "B.min()"
   ]
  },
  {
   "cell_type": "code",
   "execution_count": null,
   "metadata": {},
   "outputs": [],
   "source": []
  },
  {
   "cell_type": "code",
   "execution_count": 3,
   "metadata": {},
   "outputs": [],
   "source": [
    "# with open('/media/DATA/jbonato/astro_segm/set7/.tmp/dict_dataset1.txt', \"rb\") as fp:   \n",
    "#     dict_param = pickle.load(fp)\n",
    "\n",
    "# dict_param['list'] = [i*40 for i in range(12)]\n",
    "# dict_param\n",
    "\n",
    "\n",
    "# dict_param['blocks']=15\n",
    "# dict_param['threads']=24\n",
    "# dict_param['BPM_ratio']=4\n",
    "# dict_param['N_pix_st']=50\n",
    "# dict_param['astr_min']=50\n",
    "# dict_param['th1_p']=.25\n",
    "# dict_param['th2_p']=.1\n",
    "# dict_param['max_min']=np.asarray([345,60])\n",
    "# dict_param['astro_num']=40\n",
    "# dict_param['bb']=80\n",
    "# dict_param['pad']=8\n",
    "# dict_param['list']=[i*54 for i in range(9)]\n",
    "# dict_param['list'][-1]=432\n",
    "# dict_param['decr_dim'] = 5\n",
    "# dict_param['init_th'] = 0.5\n",
    "# dict_param['decr_th'] = 7.333333333333333*25\n",
    "\n",
    "# with open('/media/DATA/jbonato/astro_segm/set4/.tmp/dict_dataset.txt', \"rb\") as fp:   #Pickling\n",
    "#     dict_param = pickle.load(fp)\n",
    "# dict_param['init_th_'] = 0.5\n",
    "\n",
    "# dict_param['BPM_ratio']=3\n",
    "# dict_param['blocks']= 15\n",
    "# dict_param['threads']=32\n",
    "\n",
    "# dict_param = {\n",
    "#     'list':[i*40 for i in range(12)],\n",
    "#     'blocks':8,\n",
    "#     'threads':12,\n",
    "#     'BPM_ratio':8,\n",
    "#     'bb':96,\n",
    "    \n",
    "#     'N_pix_st':100, #starting minimum area\n",
    "#     'astr_min':80, # approx. 0.9 min in dataset\n",
    "#     'percentile': 80,\n",
    "#     'pad':5,\n",
    "#     'astro_num':4, # number of astro min in FOV\n",
    "#     'init_th_':0.6, # threshold initialization\n",
    "#     'decr_dim':10, # astro area decrease\n",
    "#     'decr_th':25, # temporal threshold decrease\n",
    "#     'corr_int':False, # intensity correction flag\n",
    "#     'gpu_flag':True\n",
    "# }\n",
    "\n",
    "dict_param = {\n",
    "    'list':[i*33 for i in range(45)],\n",
    "    'blocks':17*2,\n",
    "    'threads':24,\n",
    "    'BPM_ratio':2,\n",
    "    'bb':48,\n",
    "    'N_pix_st':50, #starting minimum area\n",
    "    'astr_min':100,#100\n",
    "    'percentile': 80,#80\n",
    "    'pad':0,\n",
    "    'astro_num':150, # number of astro min in FOV ####150 but for 1170 is 100 # 300 for fov 0020 5\n",
    "    'init_th_':0.5, #.3 for 1170 ,.5 threshold initialization approx. 125\n",
    "    'decr_dim':5, # astro area decrease\n",
    "    'decr_th':25, # temporal threshold decrease\n",
    "    'corr_int':True, # intensity correction flag\n",
    "    'gpu_flag':True\n",
    "}\n",
    "\n",
    "dict_param['percentile']=80\n",
    "dict_param['max_min'] = np.asarray([345,89])\n",
    "max_min = dict_param['max_min']\n",
    "\n",
    "dict_param['th1_p']=0.20\n",
    "dict_param['th2_p']=0.08\n"
   ]
  },
  {
   "cell_type": "code",
   "execution_count": null,
   "metadata": {},
   "outputs": [
    {
     "name": "stdout",
     "output_type": "stream",
     "text": [
      "GPU started with  (34, 34)  blocks and  (24, 24)  threads per block\n",
      "Iteration per block:  2.6470588235294117\n",
      "debug True\n",
      "(1500, 1500)\n"
     ]
    }
   ],
   "source": [
    "stack = np.zeros((600,1500,1500))\n",
    "\n",
    "a_reg = sel_active_reg(stack.astype(np.float32),dict_param)\n",
    "\n",
    "A,B = a_reg.check_sel_active_reg_gpu_gen(void_out=False,debug=True)"
   ]
  },
  {
   "cell_type": "code",
   "execution_count": null,
   "metadata": {},
   "outputs": [],
   "source": [
    "plt.figure(figsize=(10,10))\n",
    "plt.imshow(B)"
   ]
  },
  {
   "cell_type": "code",
   "execution_count": 8,
   "metadata": {},
   "outputs": [
    {
     "data": {
      "text/plain": [
       "array([1, 2, 3, 4, 5, 6, 9], dtype=int32)"
      ]
     },
     "execution_count": 8,
     "metadata": {},
     "output_type": "execute_result"
    }
   ],
   "source": [
    "B[:,:96].min()\n",
    "np.unique(B)"
   ]
  },
  {
   "cell_type": "code",
   "execution_count": 9,
   "metadata": {},
   "outputs": [
    {
     "data": {
      "text/plain": [
       "9"
      ]
     },
     "execution_count": 9,
     "metadata": {},
     "output_type": "execute_result"
    }
   ],
   "source": [
    "B.max()"
   ]
  },
  {
   "cell_type": "code",
   "execution_count": null,
   "metadata": {},
   "outputs": [],
   "source": []
  },
  {
   "cell_type": "code",
   "execution_count": null,
   "metadata": {},
   "outputs": [],
   "source": []
  }
 ],
 "metadata": {
  "kernelspec": {
   "display_name": "Python 3",
   "language": "python",
   "name": "python3"
  },
  "language_info": {
   "codemirror_mode": {
    "name": "ipython",
    "version": 3
   },
   "file_extension": ".py",
   "mimetype": "text/x-python",
   "name": "python",
   "nbconvert_exporter": "python",
   "pygments_lexer": "ipython3",
   "version": "3.6.8"
  }
 },
 "nbformat": 4,
 "nbformat_minor": 4
}
